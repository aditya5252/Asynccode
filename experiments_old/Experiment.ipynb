{
 "cells": [
  {
   "cell_type": "code",
   "execution_count": 1,
   "id": "2b7886d4",
   "metadata": {},
   "outputs": [],
   "source": [
    "import delay_file\n",
    "import probability_initial\n",
    "import error_file\n",
    "import analytical_file\n",
    "import ic_file\n",
    "import numpy as np\n",
    "import matplotlib.pyplot as plt\n",
    "import timestep_file\n",
    "import FLAG_file\n",
    "import grid_file\n",
    "import step"
   ]
  },
  {
   "cell_type": "code",
   "execution_count": 2,
   "id": "81686201",
   "metadata": {},
   "outputs": [],
   "source": [
    "u=np.sin(np.arange(0,256)*2*np.pi/256)\n",
    "C=1.0\n",
    "nx_=256\n",
    "dx=2*np.pi/nx_"
   ]
  },
  {
   "cell_type": "code",
   "execution_count": 3,
   "id": "c1001198",
   "metadata": {},
   "outputs": [],
   "source": [
    "u1=u\n",
    "u2=u\n",
    "ps=np.arange(2*4).reshape(2,4)\n",
    "pe=np.arange(2*4).reshape(2,4)"
   ]
  },
  {
   "cell_type": "code",
   "execution_count": 4,
   "id": "23ec24bf",
   "metadata": {},
   "outputs": [
    {
     "name": "stdout",
     "output_type": "stream",
     "text": [
      "True\n",
      "True\n",
      "True\n",
      "True\n",
      "True\n",
      "True\n",
      "True\n",
      "True\n",
      "True\n",
      "True\n",
      "True\n",
      "True\n",
      "True\n",
      "True\n",
      "True\n",
      "True\n",
      "True\n",
      "True\n",
      "True\n",
      "False\n"
     ]
    }
   ],
   "source": [
    "for i in range(20):\n",
    "    As=step.cd2u1(u1,C,dx,nx_,Eqflag=FLAG_file.EqnFLAG,Syncflag='DAsync',L=3,PE=4,perPE=64,\n",
    "                                 pstart_in=ps,pend_in=pe)\n",
    "    u1=As[0]\n",
    "    Ss=step.cd2u1(u2,C,dx,nx_,Eqflag=FLAG_file.EqnFLAG,Syncflag='DSync',L=3,PE=4,perPE=64,\n",
    "                                 pstart_in=ps,pend_in=pe)\n",
    "    u2=Ss\n",
    "    print(np.array_equal(As[0],Ss))"
   ]
  },
  {
   "cell_type": "code",
   "execution_count": 5,
   "id": "a5876ff0",
   "metadata": {},
   "outputs": [
    {
     "data": {
      "text/plain": [
       "True"
      ]
     },
     "execution_count": 5,
     "metadata": {},
     "output_type": "execute_result"
    }
   ],
   "source": []
  },
  {
   "cell_type": "code",
   "execution_count": null,
   "id": "2582fa40",
   "metadata": {},
   "outputs": [],
   "source": []
  }
 ],
 "metadata": {
  "kernelspec": {
   "display_name": "torCH",
   "language": "python",
   "name": "torch"
  },
  "language_info": {
   "codemirror_mode": {
    "name": "ipython",
    "version": 3
   },
   "file_extension": ".py",
   "mimetype": "text/x-python",
   "name": "python",
   "nbconvert_exporter": "python",
   "pygments_lexer": "ipython3",
   "version": "3.9.7"
  }
 },
 "nbformat": 4,
 "nbformat_minor": 5
}

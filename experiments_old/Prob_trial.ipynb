{
 "cells": [
  {
   "cell_type": "code",
   "execution_count": 1,
   "id": "cfee7e56",
   "metadata": {},
   "outputs": [],
   "source": [
    "import numpy as np\n",
    "\n",
    "def prob_1D_from_u_1D(u,PE,perPE):\n",
    "    pstart=np.zeros(PE)\n",
    "    pend=np.zeros(PE)\n",
    "    for pe in range(PE-1):\n",
    "        pstart[pe+1]=u[(pe+1)*perPE]\n",
    "        pend[pe]=u[(pe+1)*perPE-1]\n",
    "        #Periodic Boundary points\n",
    "    pstart[0]=u[0*perPE +1]\n",
    "    pend[PE-1]=u[(PE)*perPE-1-1]\n",
    "    \n",
    "    return pstart,pend\n",
    "\n",
    "def prob_2D_from_init_c(lis,init_c,PE,perPE,delay_max):\n",
    "    L=delay_max\n",
    "    ps=[]\n",
    "    pe=[]\n",
    "    pst_1d,pen_1d=prob_1D_from_u_1D(init_c,PE,perPE)\n",
    "    ps.append(pst_1d)\n",
    "    pe.append(pen_1d)\n",
    "    for h in range(L-2):\n",
    "        pst_1d,pen_1d=prob_1D_from_u_1D(lis[h],PE,perPE)\n",
    "        ps.append(pst_1d)\n",
    "        pe.append(pen_1d)\n",
    "\n",
    "    prob_Start=np.stack(ps)\n",
    "    prob_End=np.stack(pe)\n",
    "    return prob_Start,prob_End"
   ]
  },
  {
   "cell_type": "code",
   "execution_count": 3,
   "id": "63488952",
   "metadata": {},
   "outputs": [
    {
     "data": {
      "text/plain": [
       "(array([  1.,  64., 128., 192.]), array([ 63., 127., 191., 254.]))"
      ]
     },
     "execution_count": 3,
     "metadata": {},
     "output_type": "execute_result"
    }
   ],
   "source": [
    "prob_1D_from_u_1D(np.arange(256),4,64)"
   ]
  },
  {
   "cell_type": "code",
   "execution_count": null,
   "id": "7ebd2a3a",
   "metadata": {},
   "outputs": [],
   "source": [
    "#Given 2D array containing "
   ]
  },
  {
   "cell_type": "code",
   "execution_count": 2,
   "id": "fd186598",
   "metadata": {},
   "outputs": [],
   "source": [
    "def prob_2D_from_arr_2D(arr2D,PE,perPE,m):\n",
    "    # m = L-1 steps\n",
    "    if (m!=arr2D.shape[0]):\n",
    "        print('ERROR : Shapes not compatible')\n",
    "        return\n",
    "    prob_S_list,prob_E_list=[],[]\n",
    "    for i in range(m):\n",
    "        ps,pe=prob_1D_from_u_1D(arr2D[i],PE,perPE)\n",
    "        prob_S_list.append(ps)\n",
    "        prob_E_list.append(pe)\n",
    "    prob_2D_S_arr=np.stack(prob_S_list)\n",
    "    prob_2D_E_arr=np.stack(prob_E_list)\n",
    "    return prob_2D_S_arr,prob_2D_E_arr\n",
    "        "
   ]
  },
  {
   "cell_type": "code",
   "execution_count": 10,
   "id": "6c4c16cb",
   "metadata": {},
   "outputs": [
    {
     "name": "stdout",
     "output_type": "stream",
     "text": [
      "Hello\n",
      "Hello\n"
     ]
    }
   ],
   "source": [
    "prob_2D_from_arr_2D(np.zeros((2,3)),4,64,2)"
   ]
  },
  {
   "cell_type": "code",
   "execution_count": 4,
   "id": "1420c8f5",
   "metadata": {},
   "outputs": [
    {
     "data": {
      "text/plain": [
       "array([[  0,   1,   2, ..., 253, 254, 255],\n",
       "       [  0,   1,   2, ..., 253, 254, 255],\n",
       "       [  0,   1,   2, ..., 253, 254, 255],\n",
       "       [  0,   1,   2, ..., 253, 254, 255],\n",
       "       [  0,   1,   2, ..., 253, 254, 255]])"
      ]
     },
     "execution_count": 4,
     "metadata": {},
     "output_type": "execute_result"
    }
   ],
   "source": [
    "x=np.arange(256)\n",
    "x_2d=np.tile(x, (5, 1))\n",
    "x_2d\n"
   ]
  },
  {
   "cell_type": "code",
   "execution_count": 5,
   "id": "256c6678",
   "metadata": {},
   "outputs": [
    {
     "data": {
      "text/plain": [
       "(array([  1.,  64., 128., 192.]), array([ 63., 127., 191., 254.]))"
      ]
     },
     "execution_count": 5,
     "metadata": {},
     "output_type": "execute_result"
    }
   ],
   "source": [
    "prob_1D_from_u_1D(x,4,64)"
   ]
  },
  {
   "cell_type": "code",
   "execution_count": 7,
   "id": "96b03707",
   "metadata": {},
   "outputs": [],
   "source": [
    "p1,p2=prob_2D_from_arr_2D(x_2d,4,64,5)"
   ]
  },
  {
   "cell_type": "code",
   "execution_count": 9,
   "id": "5a2c2e0c",
   "metadata": {},
   "outputs": [
    {
     "data": {
      "text/plain": [
       "array([[ 63., 127., 191., 254.],\n",
       "       [ 63., 127., 191., 254.],\n",
       "       [ 63., 127., 191., 254.],\n",
       "       [ 63., 127., 191., 254.],\n",
       "       [ 63., 127., 191., 254.]])"
      ]
     },
     "execution_count": 9,
     "metadata": {},
     "output_type": "execute_result"
    }
   ],
   "source": [
    "p2"
   ]
  },
  {
   "cell_type": "code",
   "execution_count": 39,
   "id": "525dfd00",
   "metadata": {},
   "outputs": [
    {
     "data": {
      "text/plain": [
       "array([[[ 63., 127., 191., 254.]],\n",
       "\n",
       "       [[ 63., 127., 191., 254.]],\n",
       "\n",
       "       [[ 63., 127., 191., 254.]],\n",
       "\n",
       "       [[ 63., 127., 191., 254.]],\n",
       "\n",
       "       [[ 63., 127., 191., 254.]]])"
      ]
     },
     "execution_count": 39,
     "metadata": {},
     "output_type": "execute_result"
    }
   ],
   "source": [
    "y2[:,1:]"
   ]
  },
  {
   "cell_type": "code",
   "execution_count": 32,
   "id": "6838cc48",
   "metadata": {},
   "outputs": [],
   "source": [
    "a,b=[],[]"
   ]
  },
  {
   "cell_type": "code",
   "execution_count": 33,
   "id": "fede224b",
   "metadata": {},
   "outputs": [
    {
     "data": {
      "text/plain": [
       "[]"
      ]
     },
     "execution_count": 33,
     "metadata": {},
     "output_type": "execute_result"
    }
   ],
   "source": [
    "a"
   ]
  },
  {
   "cell_type": "code",
   "execution_count": 34,
   "id": "c9958e97",
   "metadata": {},
   "outputs": [
    {
     "data": {
      "text/plain": [
       "[]"
      ]
     },
     "execution_count": 34,
     "metadata": {},
     "output_type": "execute_result"
    }
   ],
   "source": [
    "b"
   ]
  },
  {
   "cell_type": "code",
   "execution_count": null,
   "id": "72251134",
   "metadata": {},
   "outputs": [],
   "source": []
  }
 ],
 "metadata": {
  "kernelspec": {
   "display_name": "torCH",
   "language": "python",
   "name": "torch"
  },
  "language_info": {
   "codemirror_mode": {
    "name": "ipython",
    "version": 3
   },
   "file_extension": ".py",
   "mimetype": "text/x-python",
   "name": "python",
   "nbconvert_exporter": "python",
   "pygments_lexer": "ipython3",
   "version": "3.9.7"
  }
 },
 "nbformat": 4,
 "nbformat_minor": 5
}

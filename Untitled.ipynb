{
 "cells": [
  {
   "cell_type": "code",
   "execution_count": 1,
   "id": "5f83fb5c",
   "metadata": {},
   "outputs": [],
   "source": [
    "from grid_file import*"
   ]
  },
  {
   "cell_type": "code",
   "execution_count": 2,
   "id": "58ce0f6e",
   "metadata": {},
   "outputs": [],
   "source": [
    "x=grid_(0.2,256)"
   ]
  },
  {
   "cell_type": "code",
   "execution_count": 7,
   "id": "695a1630",
   "metadata": {},
   "outputs": [],
   "source": [
    "import numpy as np\n",
    "import matplotlib.pyplot as plt"
   ]
  },
  {
   "cell_type": "code",
   "execution_count": 4,
   "id": "6ce9258c",
   "metadata": {},
   "outputs": [],
   "source": [
    "from ic_file import *"
   ]
  },
  {
   "cell_type": "code",
   "execution_count": 32,
   "id": "b6c2ba57",
   "metadata": {},
   "outputs": [],
   "source": [
    "init_c=ic_(x,amp=np.arange(1,2),kappa=np.arange(1,2),phi=np.arange(1,2),num_k=1,num_phi=1,Nx=256)"
   ]
  },
  {
   "cell_type": "code",
   "execution_count": 33,
   "id": "a7426956",
   "metadata": {},
   "outputs": [
    {
     "data": {
      "text/plain": [
       "[<matplotlib.lines.Line2D at 0x1a30031c8b0>]"
      ]
     },
     "execution_count": 33,
     "metadata": {},
     "output_type": "execute_result"
    },
    {
     "data": {
      "image/png": "[encoded data removed]",
      "text/plain": [
       "<Figure size 432x288 with 1 Axes>"
      ]
     },
     "metadata": {
      "needs_background": "light"
     },
     "output_type": "display_data"
    }
   ],
   "source": [
    "plt.plot(np.arange(256),init_c)"
   ]
  },
  {
   "cell_type": "code",
   "execution_count": 13,
   "id": "54515d23",
   "metadata": {},
   "outputs": [],
   "source": [
    "# number of grid points/ elements\n",
    "Nx=256\n",
    "# cfl number\n",
    "cfl=0.08\n",
    "# simulation end time\n",
    "tend=0.5\n",
    "# convective velocit(ies)\n",
    "c=1.0\n",
    "# diffusivity constant\n",
    "eta=0.1\n",
    "# number of wavenumbers\n",
    "numk=3\n",
    "# wavenumbers\n",
    "k_ls=np.array([2,1,2])\n",
    "# amplitudes\n",
    "amp_ls=np.array([4,2,2])\n",
    "# number of phase angles\n",
    "numphi=1\n",
    "# phase angles\n",
    "phi_ls=np.array([0])\n",
    "# number of PEs\n",
    "numPE=4\n",
    "# nlevels\n",
    "nlevels=4\n",
    "# number of sets\n",
    "nsets=1\n",
    "# probability for each set\n",
    "prob_set=[0.3,0.5,0.2,0.0]\n"
   ]
  },
  {
   "cell_type": "code",
   "execution_count": 14,
   "id": "9474487a",
   "metadata": {},
   "outputs": [
    {
     "data": {
      "text/plain": [
       "array([0.8, 0.4, 0.4])"
      ]
     },
     "execution_count": 14,
     "metadata": {},
     "output_type": "execute_result"
    }
   ],
   "source": [
    "amp_ls*0.2"
   ]
  },
  {
   "cell_type": "code",
   "execution_count": 3,
   "id": "a7393cc6",
   "metadata": {},
   "outputs": [],
   "source": [
    "# numphi\n",
    "import input_file"
   ]
  },
  {
   "cell_type": "code",
   "execution_count": 4,
   "id": "59c88686",
   "metadata": {},
   "outputs": [
    {
     "ename": "NameError",
     "evalue": "name 'np' is not defined",
     "output_type": "error",
     "traceback": [
      "\u001b[1;31m---------------------------------------------------------------------------\u001b[0m",
      "\u001b[1;31mNameError\u001b[0m                                 Traceback (most recent call last)",
      "\u001b[1;32m~\\AppData\\Local\\Temp/ipykernel_3184/678844234.py\u001b[0m in \u001b[0;36m<module>\u001b[1;34m\u001b[0m\n\u001b[1;32m----> 1\u001b[1;33m \u001b[0mnp\u001b[0m\u001b[1;33m.\u001b[0m\u001b[0marange\u001b[0m\u001b[1;33m(\u001b[0m\u001b[1;36m4\u001b[0m\u001b[1;33m)\u001b[0m\u001b[1;33m\u001b[0m\u001b[1;33m\u001b[0m\u001b[0m\n\u001b[0m",
      "\u001b[1;31mNameError\u001b[0m: name 'np' is not defined"
     ]
    }
   ],
   "source": [
    "np.arange(4)"
   ]
  },
  {
   "cell_type": "code",
   "execution_count": 9,
   "id": "1f31b9e2",
   "metadata": {},
   "outputs": [],
   "source": [
    "import grid_file"
   ]
  },
  {
   "cell_type": "code",
   "execution_count": 10,
   "id": "41e63d59",
   "metadata": {},
   "outputs": [],
   "source": [
    "import grid_file"
   ]
  },
  {
   "cell_type": "code",
   "execution_count": 13,
   "id": "42d8e4a1",
   "metadata": {},
   "outputs": [
    {
     "data": {
      "text/plain": [
       "numpy.ndarray"
      ]
     },
     "execution_count": 13,
     "metadata": {},
     "output_type": "execute_result"
    }
   ],
   "source": [
    "type(grid_file.grid_(0.2,256))"
   ]
  },
  {
   "cell_type": "code",
   "execution_count": 7,
   "id": "213d56d5",
   "metadata": {
    "scrolled": true
   },
   "outputs": [
    {
     "ename": "NameError",
     "evalue": "name 'grid_file' is not defined",
     "output_type": "error",
     "traceback": [
      "\u001b[1;31m---------------------------------------------------------------------------\u001b[0m",
      "\u001b[1;31mNameError\u001b[0m                                 Traceback (most recent call last)",
      "\u001b[1;32m~\\AppData\\Local\\Temp/ipykernel_3184/1872883385.py\u001b[0m in \u001b[0;36m<module>\u001b[1;34m\u001b[0m\n\u001b[1;32m----> 1\u001b[1;33m \u001b[0mgrid_file\u001b[0m\u001b[1;33m.\u001b[0m\u001b[0mgrid_\u001b[0m\u001b[1;33m(\u001b[0m\u001b[1;36m0.2\u001b[0m\u001b[1;33m,\u001b[0m\u001b[1;36m256\u001b[0m\u001b[1;33m)\u001b[0m\u001b[1;33m\u001b[0m\u001b[1;33m\u001b[0m\u001b[0m\n\u001b[0m",
      "\u001b[1;31mNameError\u001b[0m: name 'grid_file' is not defined"
     ]
    }
   ],
   "source": [
    "grid_file.grid_(0.2,256)"
   ]
  },
  {
   "cell_type": "code",
   "execution_count": 15,
   "id": "45f8ad7e",
   "metadata": {},
   "outputs": [],
   "source": [
    "import input_file"
   ]
  },
  {
   "cell_type": "code",
   "execution_count": 16,
   "id": "3ae513fc",
   "metadata": {},
   "outputs": [
    {
     "data": {
      "text/plain": [
       "0.08"
      ]
     },
     "execution_count": 16,
     "metadata": {},
     "output_type": "execute_result"
    }
   ],
   "source": [
    "input_file.cfl"
   ]
  },
  {
   "cell_type": "code",
   "execution_count": 18,
   "id": "cf56e0ab",
   "metadata": {},
   "outputs": [],
   "source": [
    "from input_file import *"
   ]
  },
  {
   "cell_type": "code",
   "execution_count": 20,
   "id": "634d30ed",
   "metadata": {},
   "outputs": [
    {
     "data": {
      "text/plain": [
       "4"
      ]
     },
     "execution_count": 20,
     "metadata": {},
     "output_type": "execute_result"
    }
   ],
   "source": [
    "numPE"
   ]
  },
  {
   "cell_type": "code",
   "execution_count": null,
   "id": "82b129e3",
   "metadata": {},
   "outputs": [],
   "source": []
  }
 ],
 "metadata": {
  "kernelspec": {
   "display_name": "torCH",
   "language": "python",
   "name": "torch"
  },
  "language_info": {
   "codemirror_mode": {
    "name": "ipython",
    "version": 3
   },
   "file_extension": ".py",
   "mimetype": "text/x-python",
   "name": "python",
   "nbconvert_exporter": "python",
   "pygments_lexer": "ipython3",
   "version": "3.9.7"
  }
 },
 "nbformat": 4,
 "nbformat_minor": 5
}
